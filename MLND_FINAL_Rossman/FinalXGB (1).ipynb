{
  "nbformat": 4,
  "nbformat_minor": 0,
  "metadata": {
    "colab": {
      "name": "FinalXGB.ipynb",
      "provenance": [],
      "collapsed_sections": [],
      "machine_shape": "hm"
    },
    "kernelspec": {
      "name": "python3",
      "display_name": "Python 3"
    },
    "accelerator": "GPU"
  },
  "cells": [
    {
      "cell_type": "code",
      "metadata": {
        "id": "uPpIW66dtEmE",
        "colab_type": "code",
        "colab": {}
      },
      "source": [
        "import numpy as np\n",
        "import pandas as pd \n",
        "from sklearn.compose import ColumnTransformer\n",
        "from sklearn.preprocessing import OrdinalEncoder, OneHotEncoder, LabelEncoder\n",
        "from sklearn.model_selection import train_test_split\n",
        "import xgboost as xgb\n",
        "import lightgbm as lgb"
      ],
      "execution_count": 0,
      "outputs": []
    },
    {
      "cell_type": "code",
      "metadata": {
        "id": "psnGfUyPtLOL",
        "colab_type": "code",
        "colab": {}
      },
      "source": [
        "X_train = pd.read_csv('https://raw.githubusercontent.com/sengatang/udacity_ml_nano/master/MLND_FINAL_Rossman/sales%20data/train.csv', parse_dates=[2], low_memory=False)\n",
        "X_test = pd.read_csv('https://raw.githubusercontent.com/sengatang/udacity_ml_nano/master/MLND_FINAL_Rossman/sales%20data/test.csv', parse_dates=[3], low_memory=False)\n",
        "store = pd.read_csv('https://raw.githubusercontent.com/sengatang/udacity_ml_nano/master/MLND_FINAL_Rossman/sales%20data/store.csv')"
      ],
      "execution_count": 0,
      "outputs": []
    },
    {
      "cell_type": "code",
      "metadata": {
        "id": "rx1Dh7tCtyVE",
        "colab_type": "code",
        "outputId": "a240a3a1-98b6-4277-e85c-4d9b1fd1e79e",
        "colab": {
          "base_uri": "https://localhost:8080/",
          "height": 34
        }
      },
      "source": [
        "print(X_train[\"Date\"].min(), X_train[\"Date\"].max())\n",
        "X_train.sort_values([\"Date\"], inplace=True, kind=\"mergesort\")\n",
        "X_train.reset_index(drop=True, inplace=True)"
      ],
      "execution_count": 54,
      "outputs": [
        {
          "output_type": "stream",
          "text": [
            "2013-01-01 00:00:00 2015-07-31 00:00:00\n"
          ],
          "name": "stdout"
        }
      ]
    },
    {
      "cell_type": "code",
      "metadata": {
        "id": "HqiEkvdat2sj",
        "colab_type": "code",
        "colab": {}
      },
      "source": [
        "X_test['Open'].unique()\n",
        "X_test[\"Open\"] = X_test['Open'].fillna(1) # 将缺失的值补充为 1"
      ],
      "execution_count": 0,
      "outputs": []
    },
    {
      "cell_type": "code",
      "metadata": {
        "id": "76UzAU3it-Pj",
        "colab_type": "code",
        "colab": {}
      },
      "source": [
        "store['CompetitionDistance'].fillna(store['CompetitionDistance'].median(), inplace = True)\n",
        "store.fillna(0, inplace = True)"
      ],
      "execution_count": 0,
      "outputs": []
    },
    {
      "cell_type": "code",
      "metadata": {
        "id": "ZnEZcZ_Zu8Oe",
        "colab_type": "code",
        "colab": {}
      },
      "source": [
        "def get_processed_data_with_store(df, store):\n",
        "  # 1. merge store\n",
        "  df = pd.merge(df, store, on=\"Store\", how=\"left\")\n",
        "  df['Year'] = df['Date'].dt.year\n",
        "  df['Month'] = df['Date'].dt.month\n",
        "  df['Day'] = df['Date'].dt.day\n",
        "  df['DayOfYear'] = df['Date'].dt.dayofyear\n",
        "  df['WeekOfYear'] = df['Date'].dt.weekofyear\n",
        "  df.drop(\"Date\", axis=1, inplace=True)\n",
        "  df['CompetitionOpen'] = 12 * (df.Year - df.CompetitionOpenSinceYear) + \\\n",
        "          (df.Month - df.CompetitionOpenSinceMonth)\n",
        "  df['CompetitionOpen'] = df.CompetitionOpen.apply(lambda x: x if x > 0 else 0)\n",
        "  df['PromoOpen'] = 12 * (df.Year - df.Promo2SinceYear) + (df.WeekOfYear - df.Promo2SinceWeek) / 4.0\n",
        "  df['PromoOpen'] = df['PromoOpen'].apply(lambda x: x if x > 0 else 0)\n",
        "  month2str = {1:'Jan', 2:'Feb', 3:'Mar', 4:'Apr', 5:'May', 6:'Jun', 7:'Jul', 8:'Aug', 9:'Sept', 10:'Oct', 11:'Nov', 12:'Dec'}\n",
        "  df['IsPromoMonth'] = 0\n",
        "  df['MonthStr'] = df.Month.map(month2str)\n",
        "  for interval in df.PromoInterval.unique():\n",
        "    if interval != '' and type(interval)==str:\n",
        "        for month in interval.split(','):\n",
        "            df.loc[(df.MonthStr == month) & (df.PromoInterval == interval), 'IsPromoMonth'] = 1\n",
        "  df.drop('MonthStr', axis=1, inplace=True)\n",
        "  return df\n",
        "\n",
        "def add_feature(df):\n",
        "  avg_sale_per_store = X_train[[\"Store\", \"Sales\", \"Customers\"]].groupby(\"Store\").sum()\n",
        "  avg_sale_per_store[\"AvgSalePerStore\"] = avg_sale_per_store[\"Sales\"] / avg_sale_per_store[\"Customers\"]\n",
        "  avg_sale_per_store.drop(['Sales', 'Customers'], axis=1, inplace=True)\n",
        "  df = pd.merge(df, avg_sale_per_store, how=\"left\", on=\"Store\")\n",
        "\n",
        "  groups = X_train[[\"Store\", \"Open\"]].groupby(\"Store\").mean()\n",
        "  groups.rename(columns={\"Open\":\"ShopAvgOpen\"}, inplace=True)\n",
        "  df = pd.merge(df, groups, how=\"left\", on=\"Store\")\n",
        "\n",
        "  groups1 = X_train[[\"Store\", \"Sales\"]].groupby(\"Store\").sum()\n",
        "  groups2 = X_train[X_train[\"StateHoliday\"] != \"0\"][[\"Store\", \"Sales\"]].groupby(\"Store\").sum()\n",
        "  groups = pd.merge(groups1, groups2, on=\"Store\")\n",
        "  groups[\"HolidayShopSales\"] = groups[\"Sales_y\"] / groups[\"Sales_x\"]\n",
        "  groups.drop([\"Sales_x\", \"Sales_y\"], axis=1, inplace=True)\n",
        "  df = pd.merge(df, groups, how=\"left\", on=\"Store\")\n",
        "\n",
        "  groups1 = X_train[[\"Store\", \"Sales\"]].groupby(\"Store\").sum()\n",
        "  groups2 = X_train[X_train[\"IsPromoMonth\"] == 1][[\"Store\", \"Sales\"]].groupby(\"Store\").sum()\n",
        "  groups = pd.merge(groups1, groups2, on=\"Store\")\n",
        "  groups[\"PromoShopSales\"] = groups[\"Sales_y\"] / groups[\"Sales_x\"]\n",
        "  groups.drop([\"Sales_x\", \"Sales_y\"], axis=1, inplace=True)\n",
        "  df = pd.merge(df, groups, how=\"left\", on=\"Store\")\n",
        "  return df"
      ],
      "execution_count": 0,
      "outputs": []
    },
    {
      "cell_type": "code",
      "metadata": {
        "id": "kahskhCDvm1o",
        "colab_type": "code",
        "colab": {}
      },
      "source": [
        "X_train = get_processed_data_with_store(X_train, store)\n",
        "X_test = get_processed_data_with_store(X_test, store)\n",
        "X_train = add_feature(X_train)\n",
        "X_test = add_feature(X_test)\n"
      ],
      "execution_count": 0,
      "outputs": []
    },
    {
      "cell_type": "code",
      "metadata": {
        "id": "Z8ytvXi7wev_",
        "colab_type": "code",
        "colab": {}
      },
      "source": [
        "test_close_ind = np.where(X_test[\"Open\"] == 0)[0]\n",
        "X_train = X_train[X_train[\"Sales\"] != 0]\n",
        "X_train.drop([\"Open\"], axis=1, inplace=True)\n",
        "X_test.drop([\"Open\"], axis=1, inplace=True)"
      ],
      "execution_count": 0,
      "outputs": []
    },
    {
      "cell_type": "code",
      "metadata": {
        "id": "Op6i_QTA7euh",
        "colab_type": "code",
        "colab": {}
      },
      "source": [
        "for col in [\"StateHoliday\", \"StoreType\", \"Assortment\", \"DayOfWeek\", \"Month\", \"PromoInterval\"]:\n",
        "    for val in X_train[col].unique():\n",
        "        new_col_name = col + \"_\" + str(val)\n",
        "        X_train[new_col_name] = (X_train[col] == val).astype(int)\n",
        "        X_test[new_col_name] = (X_test[col] == val).astype(int)\n",
        "del X_train[\"PromoInterval\"], X_test[\"PromoInterval\"]\n",
        "\n",
        "for col in [\"StateHoliday\", \"StoreType\", \"Assortment\"]:\n",
        "    le = LabelEncoder()\n",
        "    X_train[col] = le.fit_transform(X_train[col])\n",
        "    X_test[col] = le.transform(X_test[col])"
      ],
      "execution_count": 0,
      "outputs": []
    },
    {
      "cell_type": "code",
      "metadata": {
        "id": "q0-zk_ky4VQT",
        "colab_type": "code",
        "colab": {}
      },
      "source": [
        "y_train = np.array(X_train[\"Sales\"])\n",
        "X_train.drop(\"Sales\", axis=1, inplace=True)\n",
        "X_train.drop(\"Customers\", axis=1, inplace=True)\n",
        "test_ID = X_test[\"Id\"]\n",
        "X_test.drop(\"Id\", axis=1, inplace=True)"
      ],
      "execution_count": 0,
      "outputs": []
    },
    {
      "cell_type": "code",
      "metadata": {
        "id": "fPUV8Tsw5qNn",
        "colab_type": "code",
        "colab": {}
      },
      "source": [
        "y_train = np.log1p(y_train)"
      ],
      "execution_count": 0,
      "outputs": []
    },
    {
      "cell_type": "code",
      "metadata": {
        "id": "Rqz_7By56HEO",
        "colab_type": "code",
        "colab": {}
      },
      "source": [
        "def rmspe(y_true, y_pred):\n",
        "    y_pred = y_pred[y_true != 0]\n",
        "    y_true = y_true[y_true != 0]\n",
        "    err = np.sqrt(np.mean((1 - y_pred / y_true) ** 2))\n",
        "    return err\n",
        "\n",
        "def rmspe_xgb(y_pred, y_true):\n",
        "    y_true = y_true.get_label()\n",
        "    err = rmspe(np.expm1(y_true), np.expm1(y_pred))\n",
        "    return \"rmspe\", err"
      ],
      "execution_count": 0,
      "outputs": []
    },
    {
      "cell_type": "code",
      "metadata": {
        "id": "ww0IZIWx6QU9",
        "colab_type": "code",
        "outputId": "026bd9dc-1947-42a7-81b2-a87584f049bb",
        "colab": {
          "base_uri": "https://localhost:8080/",
          "height": 510
        }
      },
      "source": [
        "valid_mask = (X_train[\"Year\"] == 2015) & (X_train[\"DayOfYear\"] >= 171)\n",
        "X_train_1, y_train_1 = X_train[~valid_mask], y_train[~valid_mask]\n",
        "X_train_2, y_train_2 = X_train[valid_mask], y_train[valid_mask]\n",
        "reg = xgb.XGBRegressor(n_estimators=5000, objective=\"reg:squarederror\", max_depth=10,\n",
        "                       learning_rate=0.03, colsample_bytree=0.7, subsample=0.9,\n",
        "                       random_state=0, tree_method=\"gpu_hist\")\n",
        "reg.fit(X_train_1, y_train_1, eval_set=[(X_train_1, y_train_1), (X_train_2, y_train_2)],\n",
        "        eval_metric=rmspe_xgb, early_stopping_rounds=100, verbose=100)\n",
        "best_iteration = reg.best_iteration"
      ],
      "execution_count": 64,
      "outputs": [
        {
          "output_type": "stream",
          "text": [
            "[0]\tvalidation_0-rmse:8.0208\tvalidation_1-rmse:8.02753\tvalidation_0-rmspe:0.999809\tvalidation_1-rmspe:0.999811\n",
            "Multiple eval metrics have been passed: 'validation_1-rmspe' will be used for early stopping.\n",
            "\n",
            "Will train until validation_1-rmspe hasn't improved in 100 rounds.\n",
            "[100]\tvalidation_0-rmse:0.445049\tvalidation_1-rmse:0.44999\tvalidation_0-rmspe:0.354106\tvalidation_1-rmspe:0.345255\n",
            "[200]\tvalidation_0-rmse:0.161075\tvalidation_1-rmse:0.173896\tvalidation_0-rmspe:0.205586\tvalidation_1-rmspe:0.180458\n",
            "[300]\tvalidation_0-rmse:0.129715\tvalidation_1-rmse:0.146825\tvalidation_0-rmspe:0.174411\tvalidation_1-rmspe:0.156482\n",
            "[400]\tvalidation_0-rmse:0.112373\tvalidation_1-rmse:0.133352\tvalidation_0-rmspe:0.154978\tvalidation_1-rmspe:0.14218\n",
            "[500]\tvalidation_0-rmse:0.102011\tvalidation_1-rmse:0.126068\tvalidation_0-rmspe:0.143288\tvalidation_1-rmspe:0.134588\n",
            "[600]\tvalidation_0-rmse:0.095485\tvalidation_1-rmse:0.122267\tvalidation_0-rmspe:0.134943\tvalidation_1-rmspe:0.130369\n",
            "[700]\tvalidation_0-rmse:0.090322\tvalidation_1-rmse:0.118957\tvalidation_0-rmspe:0.126323\tvalidation_1-rmspe:0.126575\n",
            "[800]\tvalidation_0-rmse:0.086856\tvalidation_1-rmse:0.117416\tvalidation_0-rmspe:0.111744\tvalidation_1-rmspe:0.124896\n",
            "[900]\tvalidation_0-rmse:0.083745\tvalidation_1-rmse:0.116026\tvalidation_0-rmspe:0.105528\tvalidation_1-rmspe:0.123285\n",
            "[1000]\tvalidation_0-rmse:0.081315\tvalidation_1-rmse:0.115045\tvalidation_0-rmspe:0.100294\tvalidation_1-rmspe:0.122054\n",
            "[1100]\tvalidation_0-rmse:0.079179\tvalidation_1-rmse:0.11442\tvalidation_0-rmspe:0.095875\tvalidation_1-rmspe:0.121354\n",
            "[1200]\tvalidation_0-rmse:0.077322\tvalidation_1-rmse:0.113963\tvalidation_0-rmspe:0.092447\tvalidation_1-rmspe:0.120879\n",
            "[1300]\tvalidation_0-rmse:0.07566\tvalidation_1-rmse:0.113713\tvalidation_0-rmspe:0.088757\tvalidation_1-rmspe:0.120634\n",
            "[1400]\tvalidation_0-rmse:0.074128\tvalidation_1-rmse:0.113375\tvalidation_0-rmspe:0.084704\tvalidation_1-rmspe:0.120284\n",
            "[1500]\tvalidation_0-rmse:0.072764\tvalidation_1-rmse:0.113289\tvalidation_0-rmspe:0.081288\tvalidation_1-rmspe:0.120192\n",
            "[1600]\tvalidation_0-rmse:0.07148\tvalidation_1-rmse:0.113088\tvalidation_0-rmspe:0.079007\tvalidation_1-rmspe:0.120011\n",
            "[1700]\tvalidation_0-rmse:0.070334\tvalidation_1-rmse:0.112896\tvalidation_0-rmspe:0.077053\tvalidation_1-rmspe:0.119811\n",
            "[1800]\tvalidation_0-rmse:0.069213\tvalidation_1-rmse:0.112754\tvalidation_0-rmspe:0.075145\tvalidation_1-rmspe:0.119709\n",
            "[1900]\tvalidation_0-rmse:0.068237\tvalidation_1-rmse:0.112642\tvalidation_0-rmspe:0.073536\tvalidation_1-rmspe:0.119577\n",
            "[2000]\tvalidation_0-rmse:0.067275\tvalidation_1-rmse:0.112582\tvalidation_0-rmspe:0.072165\tvalidation_1-rmspe:0.119523\n",
            "[2100]\tvalidation_0-rmse:0.066353\tvalidation_1-rmse:0.112521\tvalidation_0-rmspe:0.070887\tvalidation_1-rmspe:0.119451\n",
            "[2200]\tvalidation_0-rmse:0.065505\tvalidation_1-rmse:0.112517\tvalidation_0-rmspe:0.069639\tvalidation_1-rmspe:0.119456\n",
            "Stopping. Best iteration:\n",
            "[2108]\tvalidation_0-rmse:0.066289\tvalidation_1-rmse:0.112513\tvalidation_0-rmspe:0.070805\tvalidation_1-rmspe:0.119433\n",
            "\n"
          ],
          "name": "stdout"
        }
      ]
    },
    {
      "cell_type": "code",
      "metadata": {
        "id": "wPO7pZAF6YSy",
        "colab_type": "code",
        "colab": {
          "base_uri": "https://localhost:8080/",
          "height": 595
        },
        "outputId": "03563be0-70a5-420f-d072-6472219e3333"
      },
      "source": [
        "X_train, y_train = X_train[y_train != 0], y_train[y_train != 0]\n",
        "reg = xgb.XGBRegressor(n_estimators=best_iteration, objective=\"reg:squarederror\", max_depth=10,\n",
        "                       learning_rate=0.03, colsample_bytree=0.7, subsample=0.9,\n",
        "                       random_state=0, tree_method=\"gpu_hist\")\n",
        "reg.fit(X_train, y_train, eval_set=[(X_train, y_train)],\n",
        "        eval_metric=rmspe_xgb, early_stopping_rounds=100, verbose=100)"
      ],
      "execution_count": 65,
      "outputs": [
        {
          "output_type": "stream",
          "text": [
            "[0]\tvalidation_0-rmse:8.02111\tvalidation_0-rmspe:0.999809\n",
            "Multiple eval metrics have been passed: 'validation_0-rmspe' will be used for early stopping.\n",
            "\n",
            "Will train until validation_0-rmspe hasn't improved in 100 rounds.\n",
            "[100]\tvalidation_0-rmse:0.444758\tvalidation_0-rmspe:0.353499\n",
            "[200]\tvalidation_0-rmse:0.161195\tvalidation_0-rmspe:0.200256\n",
            "[300]\tvalidation_0-rmse:0.129785\tvalidation_0-rmspe:0.168512\n",
            "[400]\tvalidation_0-rmse:0.113178\tvalidation_0-rmspe:0.150021\n",
            "[500]\tvalidation_0-rmse:0.102567\tvalidation_0-rmspe:0.134289\n",
            "[600]\tvalidation_0-rmse:0.095952\tvalidation_0-rmspe:0.125939\n",
            "[700]\tvalidation_0-rmse:0.0907\tvalidation_0-rmspe:0.118542\n",
            "[800]\tvalidation_0-rmse:0.087042\tvalidation_0-rmspe:0.11431\n",
            "[900]\tvalidation_0-rmse:0.084001\tvalidation_0-rmspe:0.11025\n",
            "[1000]\tvalidation_0-rmse:0.081624\tvalidation_0-rmspe:0.102826\n",
            "[1100]\tvalidation_0-rmse:0.07938\tvalidation_0-rmspe:0.095269\n",
            "[1200]\tvalidation_0-rmse:0.077511\tvalidation_0-rmspe:0.091722\n",
            "[1300]\tvalidation_0-rmse:0.07593\tvalidation_0-rmspe:0.089288\n",
            "[1400]\tvalidation_0-rmse:0.074443\tvalidation_0-rmspe:0.085823\n",
            "[1500]\tvalidation_0-rmse:0.073116\tvalidation_0-rmspe:0.082742\n",
            "[1600]\tvalidation_0-rmse:0.071865\tvalidation_0-rmspe:0.080582\n",
            "[1700]\tvalidation_0-rmse:0.070716\tvalidation_0-rmspe:0.078107\n",
            "[1800]\tvalidation_0-rmse:0.069649\tvalidation_0-rmspe:0.07615\n",
            "[1900]\tvalidation_0-rmse:0.068678\tvalidation_0-rmspe:0.07454\n",
            "[2000]\tvalidation_0-rmse:0.067746\tvalidation_0-rmspe:0.07297\n",
            "[2100]\tvalidation_0-rmse:0.066841\tvalidation_0-rmspe:0.071779\n",
            "[2107]\tvalidation_0-rmse:0.066789\tvalidation_0-rmspe:0.071725\n"
          ],
          "name": "stdout"
        },
        {
          "output_type": "execute_result",
          "data": {
            "text/plain": [
              "XGBRegressor(base_score=0.5, booster='gbtree', colsample_bylevel=1,\n",
              "             colsample_bynode=1, colsample_bytree=0.7, gamma=0,\n",
              "             importance_type='gain', learning_rate=0.03, max_delta_step=0,\n",
              "             max_depth=10, min_child_weight=1, missing=None, n_estimators=2108,\n",
              "             n_jobs=1, nthread=None, objective='reg:squarederror',\n",
              "             random_state=0, reg_alpha=0, reg_lambda=1, scale_pos_weight=1,\n",
              "             seed=None, silent=None, subsample=0.9, tree_method='gpu_hist',\n",
              "             verbosity=1)"
            ]
          },
          "metadata": {
            "tags": []
          },
          "execution_count": 65
        }
      ]
    },
    {
      "cell_type": "code",
      "metadata": {
        "id": "FeDbIUIyKeBk",
        "colab_type": "code",
        "colab": {}
      },
      "source": [
        "pred = np.expm1(reg.predict(X_test))\n",
        "pred[test_close_ind] = 0\n",
        "submission = pd.DataFrame({\"Id\": test_ID, \"Sales\": pred}, columns=[\"Id\", \"Sales\"])\n",
        "\n",
        "submission.to_csv(\"submission.csv\", index=False)"
      ],
      "execution_count": 0,
      "outputs": []
    },
    {
      "cell_type": "code",
      "metadata": {
        "id": "WC1xtOSBMFyY",
        "colab_type": "code",
        "colab": {}
      },
      "source": [
        "from google.colab import files\n",
        "# files.download('submission.csv')"
      ],
      "execution_count": 0,
      "outputs": []
    },
    {
      "cell_type": "code",
      "metadata": {
        "id": "6cuGcFQaOr9H",
        "colab_type": "code",
        "colab": {
          "base_uri": "https://localhost:8080/",
          "height": 34
        },
        "outputId": "9321a7a0-0854-4a85-df16-d5be14ebdaf8"
      },
      "source": [
        "graph = xgb.to_graphviz(reg, num_trees=0, **{'size': str(10)})\n",
        "graph.render(filename='xgb.dot')"
      ],
      "execution_count": 67,
      "outputs": [
        {
          "output_type": "execute_result",
          "data": {
            "text/plain": [
              "'xgb.dot.pdf'"
            ]
          },
          "metadata": {
            "tags": []
          },
          "execution_count": 67
        }
      ]
    },
    {
      "cell_type": "code",
      "metadata": {
        "id": "XgTzFdnLRkcA",
        "colab_type": "code",
        "colab": {}
      },
      "source": [
        "files.download('xgb.dot.pdf')"
      ],
      "execution_count": 0,
      "outputs": []
    },
    {
      "cell_type": "code",
      "metadata": {
        "id": "X_F2UflARpEl",
        "colab_type": "code",
        "colab": {
          "base_uri": "https://localhost:8080/",
          "height": 219
        },
        "outputId": "d153ae3e-4f0c-44cf-a6b2-c69f3402f461"
      },
      "source": [
        "clf_e = xgb.XGBRegressor()\n",
        "clf_e.fit(X_train,y_train)\n",
        "print('XGboost',rmspe(clf_e.predict(X_test),y_test))"
      ],
      "execution_count": 71,
      "outputs": [
        {
          "output_type": "stream",
          "text": [
            "[15:11:25] WARNING: /workspace/src/objective/regression_obj.cu:152: reg:linear is now deprecated in favor of reg:squarederror.\n"
          ],
          "name": "stdout"
        },
        {
          "output_type": "error",
          "ename": "NameError",
          "evalue": "ignored",
          "traceback": [
            "\u001b[0;31m---------------------------------------------------------------------------\u001b[0m",
            "\u001b[0;31mNameError\u001b[0m                                 Traceback (most recent call last)",
            "\u001b[0;32m<ipython-input-71-f57ae6771e71>\u001b[0m in \u001b[0;36m<module>\u001b[0;34m()\u001b[0m\n\u001b[1;32m      1\u001b[0m \u001b[0mclf_e\u001b[0m \u001b[0;34m=\u001b[0m \u001b[0mxgb\u001b[0m\u001b[0;34m.\u001b[0m\u001b[0mXGBRegressor\u001b[0m\u001b[0;34m(\u001b[0m\u001b[0;34m)\u001b[0m\u001b[0;34m\u001b[0m\u001b[0;34m\u001b[0m\u001b[0m\n\u001b[1;32m      2\u001b[0m \u001b[0mclf_e\u001b[0m\u001b[0;34m.\u001b[0m\u001b[0mfit\u001b[0m\u001b[0;34m(\u001b[0m\u001b[0mX_train\u001b[0m\u001b[0;34m,\u001b[0m\u001b[0my_train\u001b[0m\u001b[0;34m)\u001b[0m\u001b[0;34m\u001b[0m\u001b[0;34m\u001b[0m\u001b[0m\n\u001b[0;32m----> 3\u001b[0;31m \u001b[0mprint\u001b[0m\u001b[0;34m(\u001b[0m\u001b[0;34m'XGboost'\u001b[0m\u001b[0;34m,\u001b[0m\u001b[0mrmspe\u001b[0m\u001b[0;34m(\u001b[0m\u001b[0mclf_e\u001b[0m\u001b[0;34m.\u001b[0m\u001b[0mpredict\u001b[0m\u001b[0;34m(\u001b[0m\u001b[0mX_test\u001b[0m\u001b[0;34m)\u001b[0m\u001b[0;34m,\u001b[0m\u001b[0my_test\u001b[0m\u001b[0;34m)\u001b[0m\u001b[0;34m)\u001b[0m\u001b[0;34m\u001b[0m\u001b[0;34m\u001b[0m\u001b[0m\n\u001b[0m",
            "\u001b[0;31mNameError\u001b[0m: name 'y_test' is not defined"
          ]
        }
      ]
    },
    {
      "cell_type": "code",
      "metadata": {
        "id": "RFZ7Asd9WUYc",
        "colab_type": "code",
        "colab": {}
      },
      "source": [
        ""
      ],
      "execution_count": 0,
      "outputs": []
    }
  ]
}