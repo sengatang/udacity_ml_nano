{
 "cells": [
  {
   "cell_type": "code",
   "execution_count": 1,
   "metadata": {},
   "outputs": [],
   "source": [
    "def add_time_param(df):\n",
    "    df['Date'] = pd.DatetimeIndex(df['Date'])\n",
    "    df['Year'] = [x.year for x in df['Date']]\n",
    "    df['Month'] = [x.month for x in df['Date']]\n",
    "    df['Day'] = [x.day for x in df['Date']]\n",
    "    df['WeekOfYear'] = [x.weekofyear for x in df['Date']]\n",
    "    return df\n"
   ]
  },
  {
   "cell_type": "code",
   "execution_count": null,
   "metadata": {},
   "outputs": [],
   "source": [
    "def process_store(store):\n",
    "    store['CompetitionDistance'].fillna(store['CompetitionDistance'].median(), inplace = True)\n",
    "    store.fillna(0, inplace = True)\n",
    "    return store"
   ]
  },
  {
   "cell_type": "code",
   "execution_count": 3,
   "metadata": {},
   "outputs": [],
   "source": [
    "def get_processed_data_with_store(df):\n",
    "    # 1. add time param \n",
    "    df = add_time_param(df)\n",
    "    store = process_store(store)\n",
    "    df_store = pd.merge(df, store, how = 'inner', on = 'Store')\n",
    "    \n",
    "    df_store['CompetitionOpen'] = 12 * (df_store.Year - df_store.CompetitionOpenSinceYear) + \\\n",
    "            (df_store.Month - df_store.CompetitionOpenSinceMonth)\n",
    "    # Promo open time\n",
    "    df_store['PromoOpen'] = 12 * (df_store.Year - df_store.Promo2SinceYear) + \\\n",
    "            (df_store.WeekOfYear - df_store.Promo2SinceWeek) / 4.0\n",
    "    \n",
    "    map_dict = {\n",
    "        'a': 1,\n",
    "        'b': 2,\n",
    "        'c': 3,\n",
    "        'd': 4,\n",
    "        '0': 0,\n",
    "        0: 0,\n",
    "        1: 1,\n",
    "        2: 2,\n",
    "        3: 3,\n",
    "        4: 4,\n",
    "        'Jan,Apr,Jul,Oct': 1,\n",
    "        'Feb,May,Aug,Nov': 2,\n",
    "        'Mar,Jun,Sept,Dec': 3\n",
    "    }\n",
    "    \n",
    "    df_store.StateHoliday = df_store.StateHoliday.map(map_dict)\n",
    "    df_store.StoreType = df_store.StoreType.map(map_dict)\n",
    "    df_store.Assortment = df_store.Assortment.map(map_dict)\n",
    "    df_store.PromoInterval = df_store.PromoInterval.map(map_dict)\n",
    "    df_store.PromoOpen = df.PromoOpen.apply(lambda x: x if x > 0 else -1)\n",
    "    df_store.CompetitionOpen = df.CompetitionOpen.apply(lambda x: x if x > 0 else -1)\n",
    "    \n",
    "    return df_store"
   ]
  },
  {
   "cell_type": "code",
   "execution_count": 2,
   "metadata": {},
   "outputs": [],
   "source": [
    "features = [\n",
    "    'Store',\n",
    "    'Open',\n",
    "    'PromoOpen',\n",
    "    'DayOfWeek',\n",
    "    'StateHoliday',\n",
    "    'StoreType',\n",
    "    'WeekOfYear',\n",
    "    'Year',\n",
    "    'SchoolHoliday',\n",
    "    'Assortment',\n",
    "    'Promo',\n",
    "    'CompetitionDistance']"
   ]
  },
  {
   "cell_type": "code",
   "execution_count": 4,
   "metadata": {},
   "outputs": [],
   "source": [
    "def rmspe(y_true, y_pred):\n",
    "    '''\n",
    "    Compute Root Mean Square Percentage Error between two arrays.\n",
    "    '''\n",
    "    loss = np.sqrt(np.mean(np.square(((y_true - y_pred) / y_true)), axis=0))\n",
    "\n",
    "    return loss\n",
    "\n",
    "def rmspe_lgb(yhat, y):\n",
    "    return \"rmspe\", rmspe(y, yhat), False"
   ]
  },
  {
   "cell_type": "code",
   "execution_count": null,
   "metadata": {},
   "outputs": [],
   "source": []
  }
 ],
 "metadata": {
  "kernelspec": {
   "display_name": "Python 3",
   "language": "python",
   "name": "python3"
  },
  "language_info": {
   "codemirror_mode": {
    "name": "ipython",
    "version": 3
   },
   "file_extension": ".py",
   "mimetype": "text/x-python",
   "name": "python",
   "nbconvert_exporter": "python",
   "pygments_lexer": "ipython3",
   "version": "3.8.1"
  }
 },
 "nbformat": 4,
 "nbformat_minor": 4
}
